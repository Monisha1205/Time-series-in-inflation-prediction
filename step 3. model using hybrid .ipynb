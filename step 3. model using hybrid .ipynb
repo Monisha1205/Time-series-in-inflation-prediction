{
 "cells": [
  {
   "cell_type": "code",
   "execution_count": 12,
   "id": "ac5ba2c4",
   "metadata": {},
   "outputs": [
    {
     "name": "stderr",
     "output_type": "stream",
     "text": [
      "C:\\Users\\Admin\\anaconda3\\envs\\AIcoures\\lib\\site-packages\\statsmodels\\base\\model.py:606: ConvergenceWarning: Maximum Likelihood optimization failed to converge. Check mle_retvals\n",
      "  ConvergenceWarning)\n",
      "C:\\Users\\Admin\\anaconda3\\envs\\AIcoures\\lib\\site-packages\\statsmodels\\base\\model.py:606: ConvergenceWarning: Maximum Likelihood optimization failed to converge. Check mle_retvals\n",
      "  ConvergenceWarning)\n",
      "C:\\Users\\Admin\\anaconda3\\envs\\AIcoures\\lib\\site-packages\\statsmodels\\base\\model.py:606: ConvergenceWarning: Maximum Likelihood optimization failed to converge. Check mle_retvals\n",
      "  ConvergenceWarning)\n"
     ]
    },
    {
     "name": "stdout",
     "output_type": "stream",
     "text": [
      "ARIMA(0, 0, 0) MSE=0.006\n"
     ]
    },
    {
     "name": "stderr",
     "output_type": "stream",
     "text": [
      "C:\\Users\\Admin\\anaconda3\\envs\\AIcoures\\lib\\site-packages\\statsmodels\\base\\model.py:606: ConvergenceWarning: Maximum Likelihood optimization failed to converge. Check mle_retvals\n",
      "  ConvergenceWarning)\n",
      "C:\\Users\\Admin\\anaconda3\\envs\\AIcoures\\lib\\site-packages\\statsmodels\\base\\model.py:606: ConvergenceWarning: Maximum Likelihood optimization failed to converge. Check mle_retvals\n",
      "  ConvergenceWarning)\n"
     ]
    },
    {
     "name": "stdout",
     "output_type": "stream",
     "text": [
      "ARIMA(0, 0, 1) MSE=0.003\n",
      "ARIMA(0, 0, 2) MSE=0.004\n",
      "ARIMA(0, 1, 0) MSE=0.003\n",
      "ARIMA(0, 1, 1) MSE=0.006\n"
     ]
    },
    {
     "name": "stderr",
     "output_type": "stream",
     "text": [
      "C:\\Users\\Admin\\anaconda3\\envs\\AIcoures\\lib\\site-packages\\statsmodels\\base\\model.py:606: ConvergenceWarning: Maximum Likelihood optimization failed to converge. Check mle_retvals\n",
      "  ConvergenceWarning)\n",
      "C:\\Users\\Admin\\anaconda3\\envs\\AIcoures\\lib\\site-packages\\statsmodels\\base\\model.py:606: ConvergenceWarning: Maximum Likelihood optimization failed to converge. Check mle_retvals\n",
      "  ConvergenceWarning)\n"
     ]
    },
    {
     "name": "stdout",
     "output_type": "stream",
     "text": [
      "ARIMA(0, 1, 2) MSE=0.003\n",
      "ARIMA(0, 2, 0) MSE=0.004\n",
      "ARIMA(0, 2, 1) MSE=0.003\n"
     ]
    },
    {
     "name": "stderr",
     "output_type": "stream",
     "text": [
      "C:\\Users\\Admin\\anaconda3\\envs\\AIcoures\\lib\\site-packages\\statsmodels\\tsa\\statespace\\sarimax.py:978: UserWarning: Non-invertible starting MA parameters found. Using zeros as starting parameters.\n",
      "  warn('Non-invertible starting MA parameters found.'\n"
     ]
    },
    {
     "name": "stdout",
     "output_type": "stream",
     "text": [
      "ARIMA(0, 2, 2) MSE=0.009\n",
      "ARIMA(1, 0, 0) MSE=0.004\n",
      "ARIMA(1, 0, 1) MSE=0.004\n"
     ]
    },
    {
     "name": "stderr",
     "output_type": "stream",
     "text": [
      "C:\\Users\\Admin\\anaconda3\\envs\\AIcoures\\lib\\site-packages\\statsmodels\\base\\model.py:606: ConvergenceWarning: Maximum Likelihood optimization failed to converge. Check mle_retvals\n",
      "  ConvergenceWarning)\n",
      "C:\\Users\\Admin\\anaconda3\\envs\\AIcoures\\lib\\site-packages\\statsmodels\\base\\model.py:606: ConvergenceWarning: Maximum Likelihood optimization failed to converge. Check mle_retvals\n",
      "  ConvergenceWarning)\n",
      "C:\\Users\\Admin\\anaconda3\\envs\\AIcoures\\lib\\site-packages\\statsmodels\\base\\model.py:606: ConvergenceWarning: Maximum Likelihood optimization failed to converge. Check mle_retvals\n",
      "  ConvergenceWarning)\n",
      "C:\\Users\\Admin\\anaconda3\\envs\\AIcoures\\lib\\site-packages\\statsmodels\\base\\model.py:606: ConvergenceWarning: Maximum Likelihood optimization failed to converge. Check mle_retvals\n",
      "  ConvergenceWarning)\n",
      "C:\\Users\\Admin\\anaconda3\\envs\\AIcoures\\lib\\site-packages\\statsmodels\\base\\model.py:606: ConvergenceWarning: Maximum Likelihood optimization failed to converge. Check mle_retvals\n",
      "  ConvergenceWarning)\n",
      "C:\\Users\\Admin\\anaconda3\\envs\\AIcoures\\lib\\site-packages\\statsmodels\\base\\model.py:606: ConvergenceWarning: Maximum Likelihood optimization failed to converge. Check mle_retvals\n",
      "  ConvergenceWarning)\n",
      "C:\\Users\\Admin\\anaconda3\\envs\\AIcoures\\lib\\site-packages\\statsmodels\\base\\model.py:606: ConvergenceWarning: Maximum Likelihood optimization failed to converge. Check mle_retvals\n",
      "  ConvergenceWarning)\n"
     ]
    },
    {
     "name": "stdout",
     "output_type": "stream",
     "text": [
      "ARIMA(1, 0, 2) MSE=0.005\n",
      "ARIMA(1, 1, 0) MSE=0.003\n"
     ]
    },
    {
     "name": "stderr",
     "output_type": "stream",
     "text": [
      "C:\\Users\\Admin\\anaconda3\\envs\\AIcoures\\lib\\site-packages\\statsmodels\\base\\model.py:606: ConvergenceWarning: Maximum Likelihood optimization failed to converge. Check mle_retvals\n",
      "  ConvergenceWarning)\n"
     ]
    },
    {
     "name": "stdout",
     "output_type": "stream",
     "text": [
      "ARIMA(1, 1, 1) MSE=0.004\n"
     ]
    },
    {
     "name": "stderr",
     "output_type": "stream",
     "text": [
      "C:\\Users\\Admin\\anaconda3\\envs\\AIcoures\\lib\\site-packages\\statsmodels\\base\\model.py:606: ConvergenceWarning: Maximum Likelihood optimization failed to converge. Check mle_retvals\n",
      "  ConvergenceWarning)\n",
      "C:\\Users\\Admin\\anaconda3\\envs\\AIcoures\\lib\\site-packages\\statsmodels\\base\\model.py:606: ConvergenceWarning: Maximum Likelihood optimization failed to converge. Check mle_retvals\n",
      "  ConvergenceWarning)\n"
     ]
    },
    {
     "name": "stdout",
     "output_type": "stream",
     "text": [
      "ARIMA(1, 1, 2) MSE=0.004\n",
      "ARIMA(1, 2, 0) MSE=0.004\n",
      "ARIMA(1, 2, 1) MSE=0.003\n"
     ]
    },
    {
     "name": "stderr",
     "output_type": "stream",
     "text": [
      "C:\\Users\\Admin\\anaconda3\\envs\\AIcoures\\lib\\site-packages\\statsmodels\\tsa\\statespace\\sarimax.py:978: UserWarning: Non-invertible starting MA parameters found. Using zeros as starting parameters.\n",
      "  warn('Non-invertible starting MA parameters found.'\n",
      "C:\\Users\\Admin\\anaconda3\\envs\\AIcoures\\lib\\site-packages\\statsmodels\\base\\model.py:606: ConvergenceWarning: Maximum Likelihood optimization failed to converge. Check mle_retvals\n",
      "  ConvergenceWarning)\n"
     ]
    },
    {
     "name": "stdout",
     "output_type": "stream",
     "text": [
      "ARIMA(1, 2, 2) MSE=0.005\n"
     ]
    },
    {
     "name": "stderr",
     "output_type": "stream",
     "text": [
      "C:\\Users\\Admin\\anaconda3\\envs\\AIcoures\\lib\\site-packages\\statsmodels\\base\\model.py:606: ConvergenceWarning: Maximum Likelihood optimization failed to converge. Check mle_retvals\n",
      "  ConvergenceWarning)\n"
     ]
    },
    {
     "name": "stdout",
     "output_type": "stream",
     "text": [
      "ARIMA(2, 0, 0) MSE=0.004\n",
      "ARIMA(2, 0, 1) MSE=0.004\n"
     ]
    },
    {
     "name": "stderr",
     "output_type": "stream",
     "text": [
      "C:\\Users\\Admin\\anaconda3\\envs\\AIcoures\\lib\\site-packages\\statsmodels\\base\\model.py:606: ConvergenceWarning: Maximum Likelihood optimization failed to converge. Check mle_retvals\n",
      "  ConvergenceWarning)\n",
      "C:\\Users\\Admin\\anaconda3\\envs\\AIcoures\\lib\\site-packages\\statsmodels\\base\\model.py:606: ConvergenceWarning: Maximum Likelihood optimization failed to converge. Check mle_retvals\n",
      "  ConvergenceWarning)\n",
      "C:\\Users\\Admin\\anaconda3\\envs\\AIcoures\\lib\\site-packages\\statsmodels\\base\\model.py:606: ConvergenceWarning: Maximum Likelihood optimization failed to converge. Check mle_retvals\n",
      "  ConvergenceWarning)\n",
      "C:\\Users\\Admin\\anaconda3\\envs\\AIcoures\\lib\\site-packages\\statsmodels\\base\\model.py:606: ConvergenceWarning: Maximum Likelihood optimization failed to converge. Check mle_retvals\n",
      "  ConvergenceWarning)\n",
      "C:\\Users\\Admin\\anaconda3\\envs\\AIcoures\\lib\\site-packages\\statsmodels\\base\\model.py:606: ConvergenceWarning: Maximum Likelihood optimization failed to converge. Check mle_retvals\n",
      "  ConvergenceWarning)\n",
      "C:\\Users\\Admin\\anaconda3\\envs\\AIcoures\\lib\\site-packages\\statsmodels\\base\\model.py:606: ConvergenceWarning: Maximum Likelihood optimization failed to converge. Check mle_retvals\n",
      "  ConvergenceWarning)\n",
      "C:\\Users\\Admin\\anaconda3\\envs\\AIcoures\\lib\\site-packages\\statsmodels\\base\\model.py:606: ConvergenceWarning: Maximum Likelihood optimization failed to converge. Check mle_retvals\n",
      "  ConvergenceWarning)\n",
      "C:\\Users\\Admin\\anaconda3\\envs\\AIcoures\\lib\\site-packages\\statsmodels\\base\\model.py:606: ConvergenceWarning: Maximum Likelihood optimization failed to converge. Check mle_retvals\n",
      "  ConvergenceWarning)\n",
      "C:\\Users\\Admin\\anaconda3\\envs\\AIcoures\\lib\\site-packages\\statsmodels\\base\\model.py:606: ConvergenceWarning: Maximum Likelihood optimization failed to converge. Check mle_retvals\n",
      "  ConvergenceWarning)\n",
      "C:\\Users\\Admin\\anaconda3\\envs\\AIcoures\\lib\\site-packages\\statsmodels\\base\\model.py:606: ConvergenceWarning: Maximum Likelihood optimization failed to converge. Check mle_retvals\n",
      "  ConvergenceWarning)\n",
      "C:\\Users\\Admin\\anaconda3\\envs\\AIcoures\\lib\\site-packages\\statsmodels\\base\\model.py:606: ConvergenceWarning: Maximum Likelihood optimization failed to converge. Check mle_retvals\n",
      "  ConvergenceWarning)\n",
      "C:\\Users\\Admin\\anaconda3\\envs\\AIcoures\\lib\\site-packages\\statsmodels\\base\\model.py:606: ConvergenceWarning: Maximum Likelihood optimization failed to converge. Check mle_retvals\n",
      "  ConvergenceWarning)\n",
      "C:\\Users\\Admin\\anaconda3\\envs\\AIcoures\\lib\\site-packages\\statsmodels\\base\\model.py:606: ConvergenceWarning: Maximum Likelihood optimization failed to converge. Check mle_retvals\n",
      "  ConvergenceWarning)\n"
     ]
    },
    {
     "name": "stdout",
     "output_type": "stream",
     "text": [
      "ARIMA(2, 0, 2) MSE=0.005\n",
      "ARIMA(2, 1, 0) MSE=0.004\n"
     ]
    },
    {
     "name": "stderr",
     "output_type": "stream",
     "text": [
      "C:\\Users\\Admin\\anaconda3\\envs\\AIcoures\\lib\\site-packages\\statsmodels\\base\\model.py:606: ConvergenceWarning: Maximum Likelihood optimization failed to converge. Check mle_retvals\n",
      "  ConvergenceWarning)\n",
      "C:\\Users\\Admin\\anaconda3\\envs\\AIcoures\\lib\\site-packages\\statsmodels\\base\\model.py:606: ConvergenceWarning: Maximum Likelihood optimization failed to converge. Check mle_retvals\n",
      "  ConvergenceWarning)\n"
     ]
    },
    {
     "name": "stdout",
     "output_type": "stream",
     "text": [
      "ARIMA(2, 1, 1) MSE=0.004\n"
     ]
    },
    {
     "name": "stderr",
     "output_type": "stream",
     "text": [
      "C:\\Users\\Admin\\anaconda3\\envs\\AIcoures\\lib\\site-packages\\statsmodels\\base\\model.py:606: ConvergenceWarning: Maximum Likelihood optimization failed to converge. Check mle_retvals\n",
      "  ConvergenceWarning)\n",
      "C:\\Users\\Admin\\anaconda3\\envs\\AIcoures\\lib\\site-packages\\statsmodels\\base\\model.py:606: ConvergenceWarning: Maximum Likelihood optimization failed to converge. Check mle_retvals\n",
      "  ConvergenceWarning)\n",
      "C:\\Users\\Admin\\anaconda3\\envs\\AIcoures\\lib\\site-packages\\statsmodels\\base\\model.py:606: ConvergenceWarning: Maximum Likelihood optimization failed to converge. Check mle_retvals\n",
      "  ConvergenceWarning)\n",
      "C:\\Users\\Admin\\anaconda3\\envs\\AIcoures\\lib\\site-packages\\statsmodels\\base\\model.py:606: ConvergenceWarning: Maximum Likelihood optimization failed to converge. Check mle_retvals\n",
      "  ConvergenceWarning)\n",
      "C:\\Users\\Admin\\anaconda3\\envs\\AIcoures\\lib\\site-packages\\statsmodels\\base\\model.py:606: ConvergenceWarning: Maximum Likelihood optimization failed to converge. Check mle_retvals\n",
      "  ConvergenceWarning)\n",
      "C:\\Users\\Admin\\anaconda3\\envs\\AIcoures\\lib\\site-packages\\statsmodels\\base\\model.py:606: ConvergenceWarning: Maximum Likelihood optimization failed to converge. Check mle_retvals\n",
      "  ConvergenceWarning)\n",
      "C:\\Users\\Admin\\anaconda3\\envs\\AIcoures\\lib\\site-packages\\statsmodels\\base\\model.py:606: ConvergenceWarning: Maximum Likelihood optimization failed to converge. Check mle_retvals\n",
      "  ConvergenceWarning)\n"
     ]
    },
    {
     "name": "stdout",
     "output_type": "stream",
     "text": [
      "ARIMA(2, 1, 2) MSE=0.004\n",
      "ARIMA(2, 2, 0) MSE=0.003\n",
      "ARIMA(2, 2, 1) MSE=0.004\n"
     ]
    },
    {
     "name": "stderr",
     "output_type": "stream",
     "text": [
      "C:\\Users\\Admin\\anaconda3\\envs\\AIcoures\\lib\\site-packages\\statsmodels\\base\\model.py:606: ConvergenceWarning: Maximum Likelihood optimization failed to converge. Check mle_retvals\n",
      "  ConvergenceWarning)\n",
      "C:\\Users\\Admin\\anaconda3\\envs\\AIcoures\\lib\\site-packages\\statsmodels\\base\\model.py:606: ConvergenceWarning: Maximum Likelihood optimization failed to converge. Check mle_retvals\n",
      "  ConvergenceWarning)\n"
     ]
    },
    {
     "name": "stdout",
     "output_type": "stream",
     "text": [
      "ARIMA(2, 2, 2) MSE=0.004\n",
      "Best ARIMA(0, 1, 0) MSE=0.003\n",
      "1/1 [==============================] - 1s 1s/step\n",
      "LSTM MSE=0.004\n"
     ]
    }
   ],
   "source": [
    "import pandas as pd\n",
    "import numpy as np\n",
    "from statsmodels.tsa.arima.model import ARIMA\n",
    "from keras.models import Sequential\n",
    "from keras.layers import LSTM, Dense\n",
    "from sklearn.preprocessing import MinMaxScaler\n",
    "from sklearn.metrics import mean_squared_error\n",
    "from sklearn.model_selection import train_test_split\n",
    "\n",
    "# Load dataset\n",
    "dataset = pd.read_csv(\"indianEco.csv\")\n",
    "dataset['Year'] = pd.to_datetime(dataset['Year'], format='%Y')\n",
    "dataset.set_index('Year', inplace=True)\n",
    "\n",
    "# Selecting the column for inflation\n",
    "column = \"Inflation, consumer prices (annual %)\"\n",
    "data = dataset[[column]].values.astype(float)\n",
    "\n",
    "# Normalize data\n",
    "scaler = MinMaxScaler()\n",
    "data_normalized = scaler.fit_transform(data)\n",
    "\n",
    "# Function to split the data into train and test sets\n",
    "def train_test_split(data, split_fraction):\n",
    "    train_size = int(len(data) * split_fraction)\n",
    "    train, test = data[:train_size], data[train_size:]\n",
    "    return train, test\n",
    "\n",
    "# Function to evaluate ARIMA model\n",
    "def evaluate_arima_model(data, order):\n",
    "    train, test = train_test_split(data, 0.8)\n",
    "    history = [x for x in train]\n",
    "    predictions = list()\n",
    "    for t in range(len(test)):\n",
    "        model = ARIMA(history, order=order)\n",
    "        model_fit = model.fit()\n",
    "        yhat = model_fit.forecast()[0]\n",
    "        predictions.append(yhat)\n",
    "        history.append(test[t])\n",
    "    error = mean_squared_error(test, predictions)\n",
    "    return error\n",
    "\n",
    "# Function to create input-output sequences for LSTM model\n",
    "def create_dataset(data, n_lag, n_seq):\n",
    "    X, y = [], []\n",
    "    for i in range(len(data) - n_lag - n_seq + 1):\n",
    "        end_ix = i + n_lag\n",
    "        out_end_ix = end_ix + n_seq\n",
    "        X.append(data[i:end_ix])\n",
    "        y.append(data[end_ix:out_end_ix])\n",
    "    return np.array(X), np.array(y)\n",
    "\n",
    "# Function to evaluate LSTM model\n",
    "def evaluate_lstm_model(data, n_lag, n_seq, n_batch):\n",
    "    train, test = train_test_split(data, 0.8)\n",
    "    train_X, train_y = create_dataset(train, n_lag, n_seq)\n",
    "    test_X, test_y = create_dataset(test, n_lag, n_seq)\n",
    "    train_X = np.reshape(train_X, (train_X.shape[0], train_X.shape[1], 1))\n",
    "    test_X = np.reshape(test_X, (test_X.shape[0], test_X.shape[1], 1))\n",
    "    \n",
    "    model = Sequential()\n",
    "    model.add(LSTM(50, input_shape=(train_X.shape[1], train_X.shape[2])))\n",
    "    model.add(Dense(n_seq))\n",
    "    model.compile(loss='mean_squared_error', optimizer='adam')\n",
    "    model.fit(train_X, train_y, epochs=100, batch_size=n_batch, verbose=0)\n",
    "    \n",
    "    predictions = model.predict(test_X)\n",
    "    predictions = predictions.reshape(predictions.shape[0], predictions.shape[1])\n",
    "    \n",
    "    # Reshape test_y to match predictions\n",
    "    test_y = test_y.reshape(test_y.shape[0], test_y.shape[1])\n",
    "    \n",
    "    error = mean_squared_error(test_y, predictions)\n",
    "    return error\n",
    "\n",
    "# Evaluate ARIMA model\n",
    "p_values = range(0, 3)\n",
    "d_values = range(0, 3)\n",
    "q_values = range(0, 3)\n",
    "best_score, best_cfg = float(\"inf\"), None\n",
    "for p in p_values:\n",
    "    for d in d_values:\n",
    "        for q in q_values:\n",
    "            order = (p, d, q)\n",
    "            try:\n",
    "                mse = evaluate_arima_model(data_normalized, order)\n",
    "                if mse < best_score:\n",
    "                    best_score, best_cfg = mse, order\n",
    "                print('ARIMA%s MSE=%.3f' % (order, mse))\n",
    "            except:\n",
    "                continue\n",
    "print('Best ARIMA%s MSE=%.3f' % (best_cfg, best_score))\n",
    "\n",
    "# Evaluate LSTM model\n",
    "n_lag = 3\n",
    "n_seq = 1\n",
    "n_batch = 1\n",
    "lstm_mse = evaluate_lstm_model(data_normalized, n_lag, n_seq, n_batch)\n",
    "print('LSTM MSE=%.3f' % lstm_mse)"
   ]
  },
  {
   "cell_type": "code",
   "execution_count": 14,
   "id": "3d798113",
   "metadata": {},
   "outputs": [
    {
     "data": {
      "image/png": "[encoded data removed]",
      "text/plain": [
       "<Figure size 1008x504 with 1 Axes>"
      ]
     },
     "metadata": {
      "needs_background": "light"
     },
     "output_type": "display_data"
    }
   ],
   "source": [
    "import matplotlib.pyplot as plt\n",
    "\n",
    "# Function to make predictions using ARIMA model\n",
    "def make_arima_predictions(data, order):\n",
    "    train_size = int(len(data) * 0.8)\n",
    "    train, test = data[0:train_size], data[train_size:]\n",
    "    history = [x for x in train]\n",
    "    predictions = []\n",
    "    for t in range(len(test)):\n",
    "        model = ARIMA(history, order=order)\n",
    "        model_fit = model.fit()\n",
    "        yhat = model_fit.forecast()[0]\n",
    "        predictions.append(yhat)\n",
    "        history.append(test[t])\n",
    "    return predictions\n",
    "\n",
    "# Function to make predictions using LSTM model\n",
    "def make_lstm_predictions(data, n_lag, n_seq, n_batch):\n",
    "    train_size = int(len(data) * 0.8)\n",
    "    train, test = data[0:train_size], data[train_size:]\n",
    "    train_X, train_y = create_dataset(train, n_lag, n_seq)\n",
    "    test_X, test_y = create_dataset(test, n_lag, n_seq)\n",
    "    train_X = np.reshape(train_X, (train_X.shape[0], train_X.shape[1], 1))\n",
    "    test_X = np.reshape(test_X, (test_X.shape[0], test_X.shape[1], 1))\n",
    "\n",
    "    model = Sequential()\n",
    "    model.add(LSTM(50, input_shape=(train_X.shape[1], train_X.shape[2])))\n",
    "    model.add(Dense(n_seq))\n",
    "    model.compile(loss='mean_squared_error', optimizer='adam')\n",
    "    model.fit(train_X, train_y, epochs=100, batch_size=n_batch, verbose=0)\n",
    "\n",
    "    predictions = model.predict(test_X)\n",
    "    return predictions\n",
    "\n",
    "import numpy as np\n",
    "\n",
    "# Reshape arima_predictions to 2D array\n",
    "arima_predictions = np.array(arima_predictions).reshape(-1, 1)\n",
    "lstm_predictions = np.array(lstm_predictions).reshape(-1, 1)\n",
    "\n",
    "# Inverse transform the predictions to original scale\n",
    "arima_predictions = scaler.inverse_transform(arima_predictions)\n",
    "lstm_predictions = scaler.inverse_transform(lstm_predictions)\n",
    "\n",
    "# Inverse transform the test data to original scale\n",
    "test_data = scaler.inverse_transform(data_normalized[int(len(data_normalized)*0.8):])\n",
    "\n",
    "# Plot actual vs. predicted values\n",
    "plt.figure(figsize=(14, 7))\n",
    "plt.plot(test_data, label='Actual')\n",
    "plt.plot(arima_predictions, label='ARIMA Predictions')\n",
    "plt.plot(lstm_predictions, label='LSTM Predictions')\n",
    "plt.xlabel('Time')\n",
    "plt.ylabel('Inflation, consumer prices (annual %)')\n",
    "plt.title('Actual vs. Predicted Inflation')\n",
    "plt.legend()\n",
    "plt.grid(True)\n",
    "plt.show()\n"
   ]
  },
  {
   "cell_type": "code",
   "execution_count": null,
   "id": "c88b64ac",
   "metadata": {},
   "outputs": [],
   "source": []
  }
 ],
 "metadata": {
  "kernelspec": {
   "display_name": "Python 3",
   "language": "python",
   "name": "python3"
  },
  "language_info": {
   "codemirror_mode": {
    "name": "ipython",
    "version": 3
   },
   "file_extension": ".py",
   "mimetype": "text/x-python",
   "name": "python",
   "nbconvert_exporter": "python",
   "pygments_lexer": "ipython3",
   "version": "3.7.6"
  }
 },
 "nbformat": 4,
 "nbformat_minor": 5
}
