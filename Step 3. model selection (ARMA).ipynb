{
 "cells": [
  {
   "cell_type": "code",
   "execution_count": 1,
   "id": "ddfd005d",
   "metadata": {},
   "outputs": [
    {
     "data": {
      "text/html": [
       "<div>\n",
       "<style scoped>\n",
       "    .dataframe tbody tr th:only-of-type {\n",
       "        vertical-align: middle;\n",
       "    }\n",
       "\n",
       "    .dataframe tbody tr th {\n",
       "        vertical-align: top;\n",
       "    }\n",
       "\n",
       "    .dataframe thead th {\n",
       "        text-align: right;\n",
       "    }\n",
       "</style>\n",
       "<table border=\"1\" class=\"dataframe\">\n",
       "  <thead>\n",
       "    <tr style=\"text-align: right;\">\n",
       "      <th></th>\n",
       "      <th>Country Name</th>\n",
       "      <th>GDP (current US$)</th>\n",
       "      <th>GDP per capita (current US$)</th>\n",
       "      <th>GDP growth (annual %)</th>\n",
       "      <th>Imports of goods and services (% of GDP)</th>\n",
       "      <th>Exports of goods and services (% of GDP)</th>\n",
       "      <th>Total reserves (includes gold, current US$)</th>\n",
       "      <th>Inflation, consumer prices (annual %)</th>\n",
       "      <th>Population, total</th>\n",
       "      <th>Population growth (annual %)</th>\n",
       "      <th>Life expectancy at birth, total (years)</th>\n",
       "    </tr>\n",
       "    <tr>\n",
       "      <th>Year</th>\n",
       "      <th></th>\n",
       "      <th></th>\n",
       "      <th></th>\n",
       "      <th></th>\n",
       "      <th></th>\n",
       "      <th></th>\n",
       "      <th></th>\n",
       "      <th></th>\n",
       "      <th></th>\n",
       "      <th></th>\n",
       "      <th></th>\n",
       "    </tr>\n",
       "  </thead>\n",
       "  <tbody>\n",
       "    <tr>\n",
       "      <th>1960-01-01</th>\n",
       "      <td>India</td>\n",
       "      <td>3.702988e+10</td>\n",
       "      <td>82</td>\n",
       "      <td>0.00</td>\n",
       "      <td>6.83</td>\n",
       "      <td>4.46</td>\n",
       "      <td>6.745366e+08</td>\n",
       "      <td>1.78</td>\n",
       "      <td>445954579</td>\n",
       "      <td>2.31</td>\n",
       "      <td>41.13</td>\n",
       "    </tr>\n",
       "    <tr>\n",
       "      <th>1961-01-01</th>\n",
       "      <td>India</td>\n",
       "      <td>3.923244e+10</td>\n",
       "      <td>85</td>\n",
       "      <td>3.72</td>\n",
       "      <td>5.96</td>\n",
       "      <td>4.30</td>\n",
       "      <td>6.663571e+08</td>\n",
       "      <td>1.70</td>\n",
       "      <td>456351876</td>\n",
       "      <td>2.33</td>\n",
       "      <td>41.74</td>\n",
       "    </tr>\n",
       "    <tr>\n",
       "      <th>1962-01-01</th>\n",
       "      <td>India</td>\n",
       "      <td>4.216148e+10</td>\n",
       "      <td>90</td>\n",
       "      <td>2.93</td>\n",
       "      <td>6.03</td>\n",
       "      <td>4.17</td>\n",
       "      <td>5.127918e+08</td>\n",
       "      <td>3.63</td>\n",
       "      <td>467024193</td>\n",
       "      <td>2.34</td>\n",
       "      <td>42.34</td>\n",
       "    </tr>\n",
       "    <tr>\n",
       "      <th>1963-01-01</th>\n",
       "      <td>India</td>\n",
       "      <td>4.842192e+10</td>\n",
       "      <td>101</td>\n",
       "      <td>5.99</td>\n",
       "      <td>5.91</td>\n",
       "      <td>4.28</td>\n",
       "      <td>6.078625e+08</td>\n",
       "      <td>2.95</td>\n",
       "      <td>477933619</td>\n",
       "      <td>2.34</td>\n",
       "      <td>42.94</td>\n",
       "    </tr>\n",
       "    <tr>\n",
       "      <th>1964-01-01</th>\n",
       "      <td>India</td>\n",
       "      <td>5.648029e+10</td>\n",
       "      <td>116</td>\n",
       "      <td>7.45</td>\n",
       "      <td>5.69</td>\n",
       "      <td>3.73</td>\n",
       "      <td>4.991451e+08</td>\n",
       "      <td>13.36</td>\n",
       "      <td>489059309</td>\n",
       "      <td>2.33</td>\n",
       "      <td>43.57</td>\n",
       "    </tr>\n",
       "    <tr>\n",
       "      <th>...</th>\n",
       "      <td>...</td>\n",
       "      <td>...</td>\n",
       "      <td>...</td>\n",
       "      <td>...</td>\n",
       "      <td>...</td>\n",
       "      <td>...</td>\n",
       "      <td>...</td>\n",
       "      <td>...</td>\n",
       "      <td>...</td>\n",
       "      <td>...</td>\n",
       "      <td>...</td>\n",
       "    </tr>\n",
       "    <tr>\n",
       "      <th>2016-01-01</th>\n",
       "      <td>India</td>\n",
       "      <td>2.294798e+12</td>\n",
       "      <td>1733</td>\n",
       "      <td>8.26</td>\n",
       "      <td>20.92</td>\n",
       "      <td>19.16</td>\n",
       "      <td>3.616943e+11</td>\n",
       "      <td>4.95</td>\n",
       "      <td>1338636340</td>\n",
       "      <td>1.19</td>\n",
       "      <td>68.67</td>\n",
       "    </tr>\n",
       "    <tr>\n",
       "      <th>2017-01-01</th>\n",
       "      <td>India</td>\n",
       "      <td>2.651473e+12</td>\n",
       "      <td>1981</td>\n",
       "      <td>6.80</td>\n",
       "      <td>21.95</td>\n",
       "      <td>18.79</td>\n",
       "      <td>4.126138e+11</td>\n",
       "      <td>3.33</td>\n",
       "      <td>1354195680</td>\n",
       "      <td>1.16</td>\n",
       "      <td>68.97</td>\n",
       "    </tr>\n",
       "    <tr>\n",
       "      <th>2018-01-01</th>\n",
       "      <td>India</td>\n",
       "      <td>2.702930e+12</td>\n",
       "      <td>1997</td>\n",
       "      <td>6.53</td>\n",
       "      <td>23.69</td>\n",
       "      <td>19.93</td>\n",
       "      <td>3.991672e+11</td>\n",
       "      <td>3.94</td>\n",
       "      <td>1369003306</td>\n",
       "      <td>1.09</td>\n",
       "      <td>69.27</td>\n",
       "    </tr>\n",
       "    <tr>\n",
       "      <th>2019-01-01</th>\n",
       "      <td>India</td>\n",
       "      <td>2.831552e+12</td>\n",
       "      <td>2101</td>\n",
       "      <td>4.04</td>\n",
       "      <td>21.27</td>\n",
       "      <td>18.69</td>\n",
       "      <td>4.634699e+11</td>\n",
       "      <td>3.73</td>\n",
       "      <td>1383112050</td>\n",
       "      <td>1.03</td>\n",
       "      <td>69.50</td>\n",
       "    </tr>\n",
       "    <tr>\n",
       "      <th>2020-01-01</th>\n",
       "      <td>India</td>\n",
       "      <td>2.667688e+12</td>\n",
       "      <td>1928</td>\n",
       "      <td>-7.25</td>\n",
       "      <td>19.10</td>\n",
       "      <td>18.71</td>\n",
       "      <td>5.902274e+11</td>\n",
       "      <td>6.62</td>\n",
       "      <td>1396387127</td>\n",
       "      <td>0.96</td>\n",
       "      <td>69.73</td>\n",
       "    </tr>\n",
       "  </tbody>\n",
       "</table>\n",
       "<p>61 rows × 11 columns</p>\n",
       "</div>"
      ],
      "text/plain": [
       "           Country Name  GDP (current US$)    GDP per capita (current US$)   \\\n",
       "Year                                                                          \n",
       "1960-01-01        India        3.702988e+10                              82   \n",
       "1961-01-01        India        3.923244e+10                              85   \n",
       "1962-01-01        India        4.216148e+10                              90   \n",
       "1963-01-01        India        4.842192e+10                             101   \n",
       "1964-01-01        India        5.648029e+10                             116   \n",
       "...                 ...                 ...                             ...   \n",
       "2016-01-01        India        2.294798e+12                            1733   \n",
       "2017-01-01        India        2.651473e+12                            1981   \n",
       "2018-01-01        India        2.702930e+12                            1997   \n",
       "2019-01-01        India        2.831552e+12                            2101   \n",
       "2020-01-01        India        2.667688e+12                            1928   \n",
       "\n",
       "            GDP growth (annual %)  Imports of goods and services (% of GDP)  \\\n",
       "Year                                                                          \n",
       "1960-01-01                   0.00                                      6.83   \n",
       "1961-01-01                   3.72                                      5.96   \n",
       "1962-01-01                   2.93                                      6.03   \n",
       "1963-01-01                   5.99                                      5.91   \n",
       "1964-01-01                   7.45                                      5.69   \n",
       "...                           ...                                       ...   \n",
       "2016-01-01                   8.26                                     20.92   \n",
       "2017-01-01                   6.80                                     21.95   \n",
       "2018-01-01                   6.53                                     23.69   \n",
       "2019-01-01                   4.04                                     21.27   \n",
       "2020-01-01                  -7.25                                     19.10   \n",
       "\n",
       "            Exports of goods and services (% of GDP)  \\\n",
       "Year                                                   \n",
       "1960-01-01                                      4.46   \n",
       "1961-01-01                                      4.30   \n",
       "1962-01-01                                      4.17   \n",
       "1963-01-01                                      4.28   \n",
       "1964-01-01                                      3.73   \n",
       "...                                              ...   \n",
       "2016-01-01                                     19.16   \n",
       "2017-01-01                                     18.79   \n",
       "2018-01-01                                     19.93   \n",
       "2019-01-01                                     18.69   \n",
       "2020-01-01                                     18.71   \n",
       "\n",
       "             Total reserves (includes gold, current US$)   \\\n",
       "Year                                                        \n",
       "1960-01-01                                   6.745366e+08   \n",
       "1961-01-01                                   6.663571e+08   \n",
       "1962-01-01                                   5.127918e+08   \n",
       "1963-01-01                                   6.078625e+08   \n",
       "1964-01-01                                   4.991451e+08   \n",
       "...                                                   ...   \n",
       "2016-01-01                                   3.616943e+11   \n",
       "2017-01-01                                   4.126138e+11   \n",
       "2018-01-01                                   3.991672e+11   \n",
       "2019-01-01                                   4.634699e+11   \n",
       "2020-01-01                                   5.902274e+11   \n",
       "\n",
       "            Inflation, consumer prices (annual %)  Population, total  \\\n",
       "Year                                                                   \n",
       "1960-01-01                                   1.78          445954579   \n",
       "1961-01-01                                   1.70          456351876   \n",
       "1962-01-01                                   3.63          467024193   \n",
       "1963-01-01                                   2.95          477933619   \n",
       "1964-01-01                                  13.36          489059309   \n",
       "...                                           ...                ...   \n",
       "2016-01-01                                   4.95         1338636340   \n",
       "2017-01-01                                   3.33         1354195680   \n",
       "2018-01-01                                   3.94         1369003306   \n",
       "2019-01-01                                   3.73         1383112050   \n",
       "2020-01-01                                   6.62         1396387127   \n",
       "\n",
       "            Population growth (annual %)  \\\n",
       "Year                                       \n",
       "1960-01-01                          2.31   \n",
       "1961-01-01                          2.33   \n",
       "1962-01-01                          2.34   \n",
       "1963-01-01                          2.34   \n",
       "1964-01-01                          2.33   \n",
       "...                                  ...   \n",
       "2016-01-01                          1.19   \n",
       "2017-01-01                          1.16   \n",
       "2018-01-01                          1.09   \n",
       "2019-01-01                          1.03   \n",
       "2020-01-01                          0.96   \n",
       "\n",
       "            Life expectancy at birth, total (years)  \n",
       "Year                                                 \n",
       "1960-01-01                                    41.13  \n",
       "1961-01-01                                    41.74  \n",
       "1962-01-01                                    42.34  \n",
       "1963-01-01                                    42.94  \n",
       "1964-01-01                                    43.57  \n",
       "...                                             ...  \n",
       "2016-01-01                                    68.67  \n",
       "2017-01-01                                    68.97  \n",
       "2018-01-01                                    69.27  \n",
       "2019-01-01                                    69.50  \n",
       "2020-01-01                                    69.73  \n",
       "\n",
       "[61 rows x 11 columns]"
      ]
     },
     "execution_count": 1,
     "metadata": {},
     "output_type": "execute_result"
    }
   ],
   "source": [
    "import pandas as pd \n",
    "dataset=pd.read_csv(\"indianEco.csv\")\n",
    "dataset['Year'] = pd.to_datetime(dataset['Year'], format='%Y')\n",
    "dataset.set_index('Year', inplace=True)\n",
    "dataset"
   ]
  },
  {
   "cell_type": "code",
   "execution_count": 2,
   "id": "48cc9542",
   "metadata": {},
   "outputs": [
    {
     "name": "stdout",
     "output_type": "stream",
     "text": [
      "Len: (61, 1)\n"
     ]
    }
   ],
   "source": [
    "column = \"Inflation, consumer prices (annual %)\"\n",
    "from sklearn.preprocessing import MinMaxScaler\n",
    "Ms=MinMaxScaler()\n",
    "data1 = Ms.fit_transform(dataset[[column]])\n",
    "print(\"Len:\" , data1.shape)"
   ]
  },
  {
   "cell_type": "code",
   "execution_count": 3,
   "id": "b2816555",
   "metadata": {},
   "outputs": [
    {
     "name": "stdout",
     "output_type": "stream",
     "text": [
      "49\n",
      "X_train length: (49, 1)\n",
      "X_test length: (12, 1)\n",
      "y_train length: (49, 1)\n",
      "y_test length: (12, 1)\n"
     ]
    }
   ],
   "source": [
    "training_size = round(len(data1) * 0.80)\n",
    "print(training_size)\n",
    "\n",
    "X_train = data1[:training_size]\n",
    "X_test = data1[training_size:]\n",
    "print(\"X_train length:\", X_train.shape)\n",
    "print(\"X_test length:\", X_test.shape)\n",
    "\n",
    "y_train = data1[:training_size]\n",
    "y_test = data1[training_size:]\n",
    "print(\"y_train length:\", y_train.shape)\n",
    "print(\"y_test length:\", y_test.shape)"
   ]
  },
  {
   "cell_type": "code",
   "execution_count": 4,
   "id": "41e75ca1",
   "metadata": {},
   "outputs": [
    {
     "name": "stderr",
     "output_type": "stream",
     "text": [
      "C:\\Users\\Admin\\anaconda3\\envs\\AIcoures\\lib\\site-packages\\statsmodels\\base\\model.py:606: ConvergenceWarning: Maximum Likelihood optimization failed to converge. Check mle_retvals\n",
      "  ConvergenceWarning)\n"
     ]
    },
    {
     "name": "stdout",
     "output_type": "stream",
     "text": [
      "RMSE-Testset: 0.11816088283243562\n",
      "maPe-Testset: 16684642217731.576\n",
      "RMSE-Testset: 0.12121164403043715\n",
      "maPe-Testset: 18924911252782.633\n",
      "RMSE-Testset: 0.12089937453024409\n",
      "maPe-Testset: 16908320209367.658\n",
      "RMSE-Testset: 0.12121164403043715\n",
      "maPe-Testset: 18924911252782.633\n"
     ]
    }
   ],
   "source": [
    "orders=[(1,0,2),(1,0,1),(2,0,1),(1,0,1)]\n",
    "#orderslist=[]\n",
    "#rscorelist=[]\n",
    "for i in orders:\n",
    "    #orderslist.append(i)\n",
    "    from statsmodels.tsa.arima.model import ARIMA\n",
    "    model = ARIMA(data1, order=i)\n",
    "    model_fit = model.fit()\n",
    "    # make prediction\n",
    "    y_pred= model_fit.predict(0, len(data1)-1)\n",
    "    #print(y_pred)\n",
    "    from stockFunctions import rmsemape\n",
    "    rmsemape(data1,y_pred)"
   ]
  },
  {
   "cell_type": "code",
   "execution_count": 5,
   "id": "059eddaa",
   "metadata": {},
   "outputs": [
    {
     "data": {
      "image/png": "[encoded data removed]",
      "text/plain": [
       "<Figure size 720x360 with 1 Axes>"
      ]
     },
     "metadata": {
      "needs_background": "light"
     },
     "output_type": "display_data"
    }
   ],
   "source": [
    "from stockFunctions import graph\n",
    "graph(y_test,y_pred,\"Actual\",\"Predicted\",\"Inflation, consumer prices (annual %)\",\"Days\",\"prices\")"
   ]
  },
  {
   "cell_type": "code",
   "execution_count": 6,
   "id": "652e562d",
   "metadata": {},
   "outputs": [
    {
     "data": {
      "text/plain": [
       "array([[0.51090257],\n",
       "       [0.54154016],\n",
       "       [0.45652774],\n",
       "       [0.47226056],\n",
       "       [0.48716533],\n",
       "       [0.39470052],\n",
       "       [0.346122  ],\n",
       "       [0.34722606],\n",
       "       [0.30251173],\n",
       "       [0.31934861],\n",
       "       [0.3135523 ],\n",
       "       [0.39332045]])"
      ]
     },
     "execution_count": 6,
     "metadata": {},
     "output_type": "execute_result"
    }
   ],
   "source": [
    "y_test"
   ]
  },
  {
   "cell_type": "code",
   "execution_count": 7,
   "id": "809ed76b",
   "metadata": {},
   "outputs": [],
   "source": [
    "from stockFunctions import conversionSingle\n",
    "aTestNormTable=conversionSingle(y_test,[column])"
   ]
  },
  {
   "cell_type": "code",
   "execution_count": 8,
   "id": "79ffe541",
   "metadata": {},
   "outputs": [
    {
     "data": {
      "text/html": [
       "<div>\n",
       "<style scoped>\n",
       "    .dataframe tbody tr th:only-of-type {\n",
       "        vertical-align: middle;\n",
       "    }\n",
       "\n",
       "    .dataframe tbody tr th {\n",
       "        vertical-align: top;\n",
       "    }\n",
       "\n",
       "    .dataframe thead th {\n",
       "        text-align: right;\n",
       "    }\n",
       "</style>\n",
       "<table border=\"1\" class=\"dataframe\">\n",
       "  <thead>\n",
       "    <tr style=\"text-align: right;\">\n",
       "      <th></th>\n",
       "      <th>Inflation, consumer prices (annual %)</th>\n",
       "    </tr>\n",
       "  </thead>\n",
       "  <tbody>\n",
       "    <tr>\n",
       "      <th>0</th>\n",
       "      <td>0.510903</td>\n",
       "    </tr>\n",
       "    <tr>\n",
       "      <th>1</th>\n",
       "      <td>0.54154</td>\n",
       "    </tr>\n",
       "    <tr>\n",
       "      <th>2</th>\n",
       "      <td>0.456528</td>\n",
       "    </tr>\n",
       "    <tr>\n",
       "      <th>3</th>\n",
       "      <td>0.472261</td>\n",
       "    </tr>\n",
       "    <tr>\n",
       "      <th>4</th>\n",
       "      <td>0.487165</td>\n",
       "    </tr>\n",
       "    <tr>\n",
       "      <th>5</th>\n",
       "      <td>0.394701</td>\n",
       "    </tr>\n",
       "    <tr>\n",
       "      <th>6</th>\n",
       "      <td>0.346122</td>\n",
       "    </tr>\n",
       "    <tr>\n",
       "      <th>7</th>\n",
       "      <td>0.347226</td>\n",
       "    </tr>\n",
       "    <tr>\n",
       "      <th>8</th>\n",
       "      <td>0.302512</td>\n",
       "    </tr>\n",
       "    <tr>\n",
       "      <th>9</th>\n",
       "      <td>0.319349</td>\n",
       "    </tr>\n",
       "    <tr>\n",
       "      <th>10</th>\n",
       "      <td>0.313552</td>\n",
       "    </tr>\n",
       "    <tr>\n",
       "      <th>11</th>\n",
       "      <td>0.39332</td>\n",
       "    </tr>\n",
       "  </tbody>\n",
       "</table>\n",
       "</div>"
      ],
      "text/plain": [
       "   Inflation, consumer prices (annual %)\n",
       "0                               0.510903\n",
       "1                                0.54154\n",
       "2                               0.456528\n",
       "3                               0.472261\n",
       "4                               0.487165\n",
       "5                               0.394701\n",
       "6                               0.346122\n",
       "7                               0.347226\n",
       "8                               0.302512\n",
       "9                               0.319349\n",
       "10                              0.313552\n",
       "11                               0.39332"
      ]
     },
     "execution_count": 8,
     "metadata": {},
     "output_type": "execute_result"
    }
   ],
   "source": [
    "aTestNormTable"
   ]
  },
  {
   "cell_type": "code",
   "execution_count": 9,
   "id": "b3ca4bbb",
   "metadata": {},
   "outputs": [],
   "source": [
    "actual_stock_price_test_ori=Ms.inverse_transform(aTestNormTable)"
   ]
  },
  {
   "cell_type": "code",
   "execution_count": 10,
   "id": "c91aa6be",
   "metadata": {},
   "outputs": [
    {
     "data": {
      "text/plain": [
       "array([[10.88],\n",
       "       [11.99],\n",
       "       [ 8.91],\n",
       "       [ 9.48],\n",
       "       [10.02],\n",
       "       [ 6.67],\n",
       "       [ 4.91],\n",
       "       [ 4.95],\n",
       "       [ 3.33],\n",
       "       [ 3.94],\n",
       "       [ 3.73],\n",
       "       [ 6.62]])"
      ]
     },
     "execution_count": 10,
     "metadata": {},
     "output_type": "execute_result"
    }
   ],
   "source": [
    "actual_stock_price_test_ori"
   ]
  },
  {
   "cell_type": "code",
   "execution_count": 11,
   "id": "e40dc0fd",
   "metadata": {},
   "outputs": [],
   "source": [
    "from stockFunctions import conversionSingle\n",
    "aTestNormTable=conversionSingle(y_test,[column])\n",
    "actual_stock_price_test_ori=Ms.inverse_transform(aTestNormTable)\n",
    "actual_stock_price_test_oriA=conversionSingle(actual_stock_price_test_ori,[column])"
   ]
  },
  {
   "cell_type": "code",
   "execution_count": 12,
   "id": "aae4339b",
   "metadata": {},
   "outputs": [],
   "source": [
    "from stockFunctions import conversionSingle\n",
    "pTestNormTable=conversionSingle(y_pred,[column])\n",
    "predicted_stock_price_test_ori=Ms.inverse_transform(pTestNormTable)\n",
    "predicted_stock_price_test_oriP=conversionSingle(predicted_stock_price_test_ori,[column])"
   ]
  },
  {
   "cell_type": "code",
   "execution_count": 13,
   "id": "a1dbe4c5",
   "metadata": {},
   "outputs": [
    {
     "data": {
      "image/png": "[encoded data removed]",
      "text/plain": [
       "<Figure size 720x360 with 1 Axes>"
      ]
     },
     "metadata": {
      "needs_background": "light"
     },
     "output_type": "display_data"
    }
   ],
   "source": [
    "from stockFunctions import graph\n",
    "graph(actual_stock_price_test_oriA,predicted_stock_price_test_oriP,\"Actual\",\"Predicted\",\"Inflation, consumer prices (annual %)\",\"Days\",\"prices\")"
   ]
  },
  {
   "cell_type": "code",
   "execution_count": 17,
   "id": "ac00fbac",
   "metadata": {},
   "outputs": [],
   "source": [
    "forecast=model_fit.predict(len(data1), len(data1)+3)"
   ]
  },
  {
   "cell_type": "code",
   "execution_count": 18,
   "id": "cd89c9cc",
   "metadata": {},
   "outputs": [
    {
     "data": {
      "text/plain": [
       "array([0.42784529, 0.41328309, 0.41532042, 0.41503539])"
      ]
     },
     "execution_count": 18,
     "metadata": {},
     "output_type": "execute_result"
    }
   ],
   "source": [
    "forecast"
   ]
  },
  {
   "cell_type": "code",
   "execution_count": 19,
   "id": "a2c89b0b",
   "metadata": {},
   "outputs": [],
   "source": [
    "from stockFunctions import conversionSingle\n",
    "fTestNormTable=conversionSingle(forecast,[\"Inflation, consumer prices (annual %)\"])\n",
    "forecast_stock_price_test_ori=Ms.inverse_transform(fTestNormTable)\n",
    "forecast_stock_price_test_oriF=conversionSingle(forecast_stock_price_test_ori,[\"Inflation, consumer prices (annual %)\"])"
   ]
  },
  {
   "cell_type": "code",
   "execution_count": 20,
   "id": "28675d12",
   "metadata": {},
   "outputs": [
    {
     "data": {
      "text/html": [
       "<div>\n",
       "<style scoped>\n",
       "    .dataframe tbody tr th:only-of-type {\n",
       "        vertical-align: middle;\n",
       "    }\n",
       "\n",
       "    .dataframe tbody tr th {\n",
       "        vertical-align: top;\n",
       "    }\n",
       "\n",
       "    .dataframe thead th {\n",
       "        text-align: right;\n",
       "    }\n",
       "</style>\n",
       "<table border=\"1\" class=\"dataframe\">\n",
       "  <thead>\n",
       "    <tr style=\"text-align: right;\">\n",
       "      <th></th>\n",
       "      <th>Inflation, consumer prices (annual %)</th>\n",
       "    </tr>\n",
       "  </thead>\n",
       "  <tbody>\n",
       "    <tr>\n",
       "      <th>0</th>\n",
       "      <td>7.870835</td>\n",
       "    </tr>\n",
       "    <tr>\n",
       "      <th>1</th>\n",
       "      <td>7.343246</td>\n",
       "    </tr>\n",
       "    <tr>\n",
       "      <th>2</th>\n",
       "      <td>7.417059</td>\n",
       "    </tr>\n",
       "    <tr>\n",
       "      <th>3</th>\n",
       "      <td>7.406732</td>\n",
       "    </tr>\n",
       "  </tbody>\n",
       "</table>\n",
       "</div>"
      ],
      "text/plain": [
       "  Inflation, consumer prices (annual %)\n",
       "0                              7.870835\n",
       "1                              7.343246\n",
       "2                              7.417059\n",
       "3                              7.406732"
      ]
     },
     "execution_count": 20,
     "metadata": {},
     "output_type": "execute_result"
    }
   ],
   "source": [
    "forecast_stock_price_test_oriF"
   ]
  },
  {
   "cell_type": "code",
   "execution_count": null,
   "id": "78aa9bc4",
   "metadata": {},
   "outputs": [],
   "source": []
  }
 ],
 "metadata": {
  "kernelspec": {
   "display_name": "Python 3",
   "language": "python",
   "name": "python3"
  },
  "language_info": {
   "codemirror_mode": {
    "name": "ipython",
    "version": 3
   },
   "file_extension": ".py",
   "mimetype": "text/x-python",
   "name": "python",
   "nbconvert_exporter": "python",
   "pygments_lexer": "ipython3",
   "version": "3.7.6"
  }
 },
 "nbformat": 4,
 "nbformat_minor": 5
}
